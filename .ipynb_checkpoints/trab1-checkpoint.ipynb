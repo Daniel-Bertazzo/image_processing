{
 "cells": [
  {
   "cell_type": "code",
   "execution_count": null,
   "metadata": {},
   "outputs": [],
   "source": [
    "'''\n",
    "Daniel Penna Chaves Bertazzo - 10349561\n",
    "\n",
    "SCC0251 - Image Processing - ICMC/USP\n",
    "First semester of 2020\n",
    "\n",
    "Assignment 1: Intensity transformations\n",
    "'''"
   ]
  },
  {
   "cell_type": "code",
   "execution_count": null,
   "metadata": {},
   "outputs": [],
   "source": [
    "import numpy as np\n",
    "import imageio\n",
    "import matplotlib.pyplot as plt"
   ]
  },
  {
   "cell_type": "markdown",
   "metadata": {},
   "source": [
    "## Reading input data"
   ]
  },
  {
   "cell_type": "code",
   "execution_count": null,
   "metadata": {},
   "outputs": [],
   "source": [
    "# Reading input data\n",
    "\n",
    "filename = str(input()).rstrip() # Image's filename\n",
    "r = imageio.imread(filename)     # Reads the image\n",
    "T = int(input())                 # Which transformation to apply\n",
    "S = int(input())                 # Parameter S (to save or not afterwards)"
   ]
  },
  {
   "cell_type": "markdown",
   "metadata": {},
   "source": [
    "## Selects which transformation to apply"
   ]
  },
  {
   "cell_type": "code",
   "execution_count": null,
   "metadata": {},
   "outputs": [],
   "source": [
    "# Tranformation 1: Inversion\n",
    "if T == 1:\n",
    "    m = invert(r)\n",
    "\n",
    "# Transformation 2: Contrast modulation\n",
    "elif T == 2:\n",
    "    # Reads parameters needed for transformation 2\n",
    "    c = int(input()) # New lowest\n",
    "    d = int(input()) # New highest\n",
    "    \n",
    "    m = contrast_modulation(r, c, d)\n",
    "\n",
    "# Transformation 3: Logarithmic function\n",
    "elif T == 3:\n",
    "    m = logarithmic(r)\n",
    "\n",
    "# Transformation 4: Gamma adjustment\n",
    "elif T == 4:\n",
    "    # Reads parameters needed for transformation 4\n",
    "    W = int(input()) \n",
    "    Lambda = float(input())\n",
    "    \n",
    "    m = gamma_adjustment(r, W, Lambda)"
   ]
  },
  {
   "cell_type": "markdown",
   "metadata": {},
   "source": [
    "# Transformation functions"
   ]
  },
  {
   "cell_type": "markdown",
   "metadata": {},
   "source": [
    "## Inversion"
   ]
  },
  {
   "cell_type": "code",
   "execution_count": null,
   "metadata": {},
   "outputs": [],
   "source": [
    "def invert(r):\n",
    "    '''\n",
    "    Invert a given image.\n",
    "    Inputs:\n",
    "        r: original image to be inverted\n",
    "    Returns:\n",
    "        m: image after transformation\n",
    "    '''\n",
    "    return 255 - r\n",
    "    "
   ]
  }
 ],
 "metadata": {
  "kernelspec": {
   "display_name": "Python 3",
   "language": "python",
   "name": "python3"
  },
  "language_info": {
   "codemirror_mode": {
    "name": "ipython",
    "version": 3
   },
   "file_extension": ".py",
   "mimetype": "text/x-python",
   "name": "python",
   "nbconvert_exporter": "python",
   "pygments_lexer": "ipython3",
   "version": "3.7.6"
  }
 },
 "nbformat": 4,
 "nbformat_minor": 4
}
