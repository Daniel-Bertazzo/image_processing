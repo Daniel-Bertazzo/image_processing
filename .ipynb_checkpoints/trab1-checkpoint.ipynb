{
 "cells": [
  {
   "cell_type": "code",
   "execution_count": null,
   "metadata": {},
   "outputs": [],
   "source": [
    "'''\n",
    "Daniel Penna Chaves Bertazzo - 10349561\n",
    "\n",
    "SCC0251 - Image Processing - ICMC/USP\n",
    "First semester of 2020\n",
    "\n",
    "Assignment 1: Intensity transformations\n",
    "'''"
   ]
  },
  {
   "cell_type": "code",
   "execution_count": null,
   "metadata": {},
   "outputs": [],
   "source": [
    "import numpy as np\n",
    "import imageio\n",
    "import matplotlib.pyplot as plt"
   ]
  },
  {
   "cell_type": "markdown",
   "metadata": {},
   "source": [
    "## Reading input data"
   ]
  },
  {
   "cell_type": "code",
   "execution_count": null,
   "metadata": {},
   "outputs": [],
   "source": [
    "# Reading input data\n",
    "\n",
    "filename = str(input()).rstrip() # Image's filename\n",
    "r = imageio.imread(filename)     # Reads the image\n",
    "T = int(input())                 # Which transformation to apply\n",
    "S = int(input())                 # Parameter S (to save or not afterwards)"
   ]
  },
  {
   "cell_type": "markdown",
   "metadata": {},
   "source": [
    "## Selects which transformation to apply"
   ]
  },
  {
   "cell_type": "code",
   "execution_count": null,
   "metadata": {},
   "outputs": [],
   "source": [
    "# Tranformation 1: Inversion\n",
    "if T == 1:\n",
    "    m = invert(r)\n",
    "\n",
    "# Transformation 2: Contrast modulation\n",
    "elif T == 2:\n",
    "    # Reads parameters needed for transformation 2\n",
    "    c = int(input()) # New lowest\n",
    "    d = int(input()) # New highest\n",
    "    \n",
    "    m = contrast_modulation(r, c, d)\n",
    "\n",
    "# Transformation 3: Logarithmic function\n",
    "elif T == 3:\n",
    "    m = logarithmic(r)\n",
    "\n",
    "# Transformation 4: Gamma adjustment\n",
    "elif T == 4:\n",
    "    # Reads parameters needed for transformation 4\n",
    "    W = int(input()) \n",
    "    Lambda = float(input())\n",
    "    \n",
    "    m = gamma_adjustment(r, W, Lambda)"
   ]
  },
  {
   "cell_type": "markdown",
   "metadata": {},
   "source": [
    "# Transformation functions"
   ]
  },
  {
   "cell_type": "markdown",
   "metadata": {},
   "source": [
    "## 1) Inversion"
   ]
  },
  {
   "cell_type": "code",
   "execution_count": null,
   "metadata": {},
   "outputs": [],
   "source": [
    "def invert(r):\n",
    "    '''\n",
    "    Inverts a given image.\n",
    "    Input:\n",
    "        r: original image to be inverted\n",
    "    Return:\n",
    "        m: image after transformation\n",
    "    '''\n",
    "    return (255 - r).astype(np.uint8)    "
   ]
  },
  {
   "cell_type": "markdown",
   "metadata": {},
   "source": [
    "## 2) Contrast modulation"
   ]
  },
  {
   "cell_type": "code",
   "execution_count": null,
   "metadata": {},
   "outputs": [],
   "source": [
    "def contrast_modulation(r, c, d):\n",
    "    '''\n",
    "    Computes a contrast modulation transformation on the image, resulting in an image with new\n",
    "    highest and lowest values (brightest and darkest pixels). \n",
    "    Input:\n",
    "        r: original image\n",
    "        c: new lowest pixel value\n",
    "        d: new highest pixel value\n",
    "    Return:\n",
    "        m: image after transformation\n",
    "    '''\n",
    "    # Finds minimum and maximum values in image\n",
    "    a = np.amin(r)\n",
    "    b = np.amax(r)\n",
    "    \n",
    "    # Computes the transformation\n",
    "    return ((r-a) * ((d-c) / (b-a)) + c).astype(np.uint8)"
   ]
  },
  {
   "cell_type": "markdown",
   "metadata": {},
   "source": [
    "## Logarithmic function"
   ]
  },
  {
   "cell_type": "code",
   "execution_count": null,
   "metadata": {},
   "outputs": [],
   "source": [
    "def logarithmic(r):\n",
    "    '''\n",
    "    Computes a logarithmic transformation on the image.\n",
    "    Input:\n",
    "        r: original image\n",
    "    Return:\n",
    "        m: transformed image\n",
    "    '''\n",
    "    # Finds the image's maximum pixel value    \n",
    "    R = float(np.amax(r))\n",
    "    \n",
    "    # Computes the transformation\n",
    "    return ( 255.0 * (np.log2(1.0 + r) / np.log2(1.0 + R)) ).astype(np.uint8)"
   ]
  },
  {
   "cell_type": "markdown",
   "metadata": {},
   "source": [
    "## Gamma adjustment"
   ]
  },
  {
   "cell_type": "code",
   "execution_count": null,
   "metadata": {},
   "outputs": [],
   "source": [
    "def gamma_adjustment(r, W, Lambda):\n",
    "    '''\n",
    "    Computes a gamma adjustment transformation in the image\n",
    "    Input:\n",
    "        r: original image\n",
    "        W: weighs the result\n",
    "        Lamdbda: transformation parameter\n",
    "    '''\n",
    "    return ( W * np.power(r, Lambda) ).astype(np.uint8)"
   ]
  },
  {
   "cell_type": "markdown",
   "metadata": {},
   "source": [
    "# Test plotting"
   ]
  },
  {
   "cell_type": "code",
   "execution_count": null,
   "metadata": {},
   "outputs": [],
   "source": [
    "print(type(r))\n",
    "print(np.amin(r), np.amax(r))\n",
    "\n",
    "print(type(m))\n",
    "print(np.amin(m), np.amax(m))\n",
    "\n",
    "\n",
    "plt.subplot(121)\n",
    "plt.axis('off')\n",
    "plt.imshow(r, cmap='gray')\n",
    "\n",
    "\n",
    "plt.subplot(122)\n",
    "plt.axis('off')\n",
    "plt.imshow(m, cmap='gray')"
   ]
  }
 ],
 "metadata": {
  "kernelspec": {
   "display_name": "Python 3",
   "language": "python",
   "name": "python3"
  },
  "language_info": {
   "codemirror_mode": {
    "name": "ipython",
    "version": 3
   },
   "file_extension": ".py",
   "mimetype": "text/x-python",
   "name": "python",
   "nbconvert_exporter": "python",
   "pygments_lexer": "ipython3",
   "version": "3.7.6"
  }
 },
 "nbformat": 4,
 "nbformat_minor": 4
}
