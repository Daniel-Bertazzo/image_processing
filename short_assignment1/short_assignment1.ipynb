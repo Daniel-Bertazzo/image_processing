{
 "cells": [
  {
   "cell_type": "code",
   "execution_count": 1,
   "metadata": {},
   "outputs": [],
   "source": [
    "import numpy as np\n",
    "import imageio\n",
    "import matplotlib.pyplot as plt"
   ]
  },
  {
   "cell_type": "markdown",
   "metadata": {},
   "source": [
    "# DFT"
   ]
  },
  {
   "cell_type": "code",
   "execution_count": 2,
   "metadata": {},
   "outputs": [],
   "source": [
    "# Computes the 2D discrete Fourier transform\n",
    "def DFT2D(f):\n",
    "    # create empty array of complex coefficients\n",
    "    F = np.zeros(f.shape, dtype=np.complex64)\n",
    "    n,m = f.shape[0:2]\n",
    "    \n",
    "    # creating indices for x, to compute multiplication using numpy (f*exp)\n",
    "    x = np.arange(n)\n",
    "    # for each frequency 'u,v'\n",
    "    for u in np.arange(n):\n",
    "        for v in np.arange(m):\n",
    "            for y in np.arange(m):\n",
    "                F[u,v] += np.sum(f[:,y] * np.exp( (-1j*2*np.pi) * (((u*x)/n)+((v*y)/m)) ))\n",
    "                \n",
    "    return F/np.sqrt(n*m)"
   ]
  },
  {
   "cell_type": "markdown",
   "metadata": {},
   "source": [
    "# Inverse DFT "
   ]
  },
  {
   "cell_type": "code",
   "execution_count": 3,
   "metadata": {},
   "outputs": [],
   "source": [
    "# Computes the inverse 2D discrete Fourier transform\n",
    "def inverse_DFT2D(F):\n",
    "    \n",
    "    f = np.zeros(F.shape, dtype=np.complex64)\n",
    "    n,m = f.shape[0:2]\n",
    "    \n",
    "    x = np.arange(n)\n",
    "    \n",
    "    for u in np.arange(n):\n",
    "        for v in np.arange(m):\n",
    "            for y in np.arange(m):\n",
    "                f[u, v] += np.sum(F[:,y] * np.exp( (1j*2*np.pi) * (((u*x)/n)+((v*y)/m)) ))\n",
    "    \n",
    "    return f/np.sqrt(n*m)"
   ]
  },
  {
   "cell_type": "markdown",
   "metadata": {},
   "source": [
    "# Finding 2p"
   ]
  },
  {
   "cell_type": "code",
   "execution_count": 4,
   "metadata": {},
   "outputs": [],
   "source": [
    "# Finds second peak of a given fourier spectrum\n",
    "def find_p2(F):\n",
    "    # Flattens the spectrum\n",
    "    flat = np.reshape(F, F.shape[0] * F.shape[1])\n",
    "    \n",
    "    # Returns max value in the spectrum, besides the first one (relative to index 0)\n",
    "    return np.amax(np.real(np.abs(flat[1:flat.shape[0]])))"
   ]
  },
  {
   "cell_type": "markdown",
   "metadata": {},
   "source": [
    "# Filtering spectrum"
   ]
  },
  {
   "cell_type": "code",
   "execution_count": 5,
   "metadata": {},
   "outputs": [],
   "source": [
    "# Sets to 0 all coefficients for which the Fourier Spectrum is below T% of the second peak, that is, |F|< p2*T\n",
    "def filter_spectrum(F, p2, threshold):\n",
    "    cut = p2 * threshold\n",
    "    \n",
    "    # Gets number of coefficients that will be filtered (all that are less than p2*T)\n",
    "    n = np.count_nonzero(np.real(np.abs(F)) < cut)\n",
    "    \n",
    "    # Sets to 0 all coefficients less than p2*T\n",
    "    F = np.where(np.real(np.abs(F)) < cut, 0, F)\n",
    "    \n",
    "    return n"
   ]
  },
  {
   "cell_type": "code",
   "execution_count": 7,
   "metadata": {},
   "outputs": [
    {
     "name": "stdout",
     "output_type": "stream",
     "text": [
      "Threshold=5.6673\n",
      "Filtered Coefficients=943\n",
      "Original Mean=116.06\n",
      "New Mean=116.06\n"
     ]
    }
   ],
   "source": [
    "print(\"Threshold=%.4f\" % (p2 * threshold))\n",
    "print(\"Filtered Coefficients=%d\" % n)\n",
    "print(\"Original Mean=%.2f\" % np.mean(f))\n",
    "print(\"New Mean=%.2f\" % np.mean(np.real(np.abs(inv_f))))"
   ]
  },
  {
   "cell_type": "markdown",
   "metadata": {},
   "source": [
    "# Execution "
   ]
  },
  {
   "cell_type": "code",
   "execution_count": 6,
   "metadata": {},
   "outputs": [
    {
     "name": "stdout",
     "output_type": "stream",
     "text": [
      "images/num_small.png\n",
      "0.01\n"
     ]
    }
   ],
   "source": [
    "filename  = str(input())\n",
    "threshold = float(input())\n",
    "\n",
    "f = imageio.imread(\"images/gradient_noise_small.png\")\n",
    "\n",
    "# Step 1\n",
    "F = DFT2D(f)\n",
    "\n",
    "# Step 2\n",
    "p2 = find_p2(F)\n",
    "\n",
    "# Step 3\n",
    "n = filter_spectrum(F, p2, threshold)\n",
    "\n",
    "# Step 4\n",
    "inv_f = inverse_DFT2D(F)"
   ]
  }
 ],
 "metadata": {
  "kernelspec": {
   "display_name": "Python 3.7.6 64-bit ('base': conda)",
   "language": "python",
   "name": "python37664bitbaseconda1396f5dd0753419f96fe7856bd455978"
  },
  "language_info": {
   "codemirror_mode": {
    "name": "ipython",
    "version": 3
   },
   "file_extension": ".py",
   "mimetype": "text/x-python",
   "name": "python",
   "nbconvert_exporter": "python",
   "pygments_lexer": "ipython3",
   "version": "3.7.6"
  }
 },
 "nbformat": 4,
 "nbformat_minor": 4
}
