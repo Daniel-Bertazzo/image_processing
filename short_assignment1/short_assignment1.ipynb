{
 "cells": [
  {
   "cell_type": "code",
   "execution_count": 1,
   "metadata": {},
   "outputs": [],
   "source": [
    "import numpy as np\n",
    "import imageio\n",
    "import matplotlib.pyplot as plt"
   ]
  },
  {
   "cell_type": "code",
   "execution_count": 2,
   "metadata": {},
   "outputs": [],
   "source": [
    "# Computes the 2D discrete Fourier transform\n",
    "def DFT2D(f):\n",
    "    # create empty array of complex coefficients\n",
    "    F = np.zeros(f.shape, dtype=np.complex64)\n",
    "    n,m = f.shape[0:2]\n",
    "    \n",
    "    # creating indices for x, to compute multiplication using numpy (f*exp)\n",
    "    x = np.arange(n)\n",
    "    # for each frequency 'u,v'\n",
    "    for u in np.arange(n):\n",
    "        for v in np.arange(m):\n",
    "            for y in np.arange(m):\n",
    "                F[u,v] += np.sum(f[:,y] * np.exp( (-1j*2*np.pi) * (((u*x)/n)+((v*y)/m)) ))\n",
    "                \n",
    "    return F/np.sqrt(n*m)"
   ]
  },
  {
   "cell_type": "code",
   "execution_count": 3,
   "metadata": {},
   "outputs": [],
   "source": [
    "# Computes the inverse 2D discrete Fourier transform\n",
    "def inverse_DFT2D(F):\n",
    "    \n",
    "    f = np.zeros(F.shape, dtype=np.complex64)\n",
    "    n,m = f.shape[0:2]\n",
    "    \n",
    "    x = np.arange(n)\n",
    "    \n",
    "    for u in np.arange(n):\n",
    "        for v in np.arange(m):\n",
    "            for y in np.arange(m):\n",
    "                f[u, v] += np.sum(F[:,y] * np.exp( (1j*2*np.pi) * (((u*x)/n)+((v*y)/m)) ))\n",
    "    \n",
    "    return f/np.sqrt(n*m)"
   ]
  },
  {
   "cell_type": "code",
   "execution_count": 4,
   "metadata": {},
   "outputs": [],
   "source": [
    "daniel = imageio.imread(\"images/gradient_noise_small.png\")\n",
    "\n",
    "F = DFT2D(daniel)\n",
    "blob = inverse_DFT2D(F)"
   ]
  },
  {
   "cell_type": "code",
   "execution_count": 9,
   "metadata": {},
   "outputs": [
    {
     "data": {
      "text/plain": [
       "<matplotlib.image.AxesImage at 0x7f54cfa22d90>"
      ]
     },
     "execution_count": 9,
     "metadata": {},
     "output_type": "execute_result"
    },
    {
     "data": {
      "image/png": "[encoded data removed]",
      "text/plain": [
       "<Figure size 1296x720 with 3 Axes>"
      ]
     },
     "metadata": {
      "needs_background": "light"
     },
     "output_type": "display_data"
    }
   ],
   "source": [
    "plt.figure(figsize=(18,10))\n",
    "\n",
    "plt.subplot(131)\n",
    "plt.imshow(daniel, cmap='gray')\n",
    "\n",
    "plt.subplot(132)\n",
    "plt.imshow(np.log(1 + np.fft.fftshift(np.abs(F))), cmap='gray')\n",
    "\n",
    "plt.subplot(133)\n",
    "plt.imshow(abs(blob), cmap='gray')"
   ]
  },
  {
   "cell_type": "markdown",
   "metadata": {},
   "source": [
    "**Exercise**: implement the Inverse Transforms for the 1D and 2D cases. Perform the DFT and its inverse, and compare the original and the inverted images, by computing the RMSE (Root mean square error) between the images.\n",
    "\n",
    "The Inverse Discrete Fourier Transforms are given by the following equations. Note the inverted signal for the imaginary unit:\n",
    "\n",
    "$$f(x,y) = \\frac{1}{\\sqrt{nm}}\\sum_{u=0}^{n-1} \\sum_{v=0}^{m-1} F(u,v) e^{j 2\\pi [(u x)/n + (v y)/m]}$$\n",
    "\n",
    "Normal discrete fourier transform:\n",
    "\n",
    "$$F(u,v) = \\frac{1}{\\sqrt{nm}}\\sum_{x=0}^{n-1} \\sum_{y=0}^{m-1} f(x,y) e^{-j 2\\pi [(u x)/n + (v y)/m]}$$"
   ]
  }
 ],
 "metadata": {
  "kernelspec": {
   "display_name": "Python 3.7.6 64-bit ('base': conda)",
   "language": "python",
   "name": "python37664bitbaseconda1396f5dd0753419f96fe7856bd455978"
  },
  "language_info": {
   "codemirror_mode": {
    "name": "ipython",
    "version": 3
   },
   "file_extension": ".py",
   "mimetype": "text/x-python",
   "name": "python",
   "nbconvert_exporter": "python",
   "pygments_lexer": "ipython3",
   "version": "3.7.6"
  }
 },
 "nbformat": 4,
 "nbformat_minor": 4
}
