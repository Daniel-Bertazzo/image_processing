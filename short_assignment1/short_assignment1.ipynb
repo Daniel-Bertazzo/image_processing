{
 "cells": [
  {
   "cell_type": "code",
   "execution_count": 1,
   "metadata": {},
   "outputs": [],
   "source": [
    "import numpy as np\n",
    "import imageio\n",
    "import matplotlib.pyplot as plt"
   ]
  },
  {
   "cell_type": "markdown",
   "metadata": {},
   "source": [
    "# DFT"
   ]
  },
  {
   "cell_type": "code",
   "execution_count": 2,
   "metadata": {},
   "outputs": [],
   "source": [
    "# Computes the 2D discrete Fourier transform\n",
    "def DFT2D(f):\n",
    "    # create empty array of complex coefficients\n",
    "    F = np.zeros(f.shape, dtype=np.complex64)\n",
    "    n,m = f.shape[0:2]\n",
    "    \n",
    "    # creating indices for x, to compute multiplication using numpy (f*exp)\n",
    "    x = np.arange(n)\n",
    "    # for each frequency 'u,v'\n",
    "    for u in np.arange(n):\n",
    "        for v in np.arange(m):\n",
    "            for y in np.arange(m):\n",
    "                F[u,v] += np.sum(f[:,y] * np.exp( (-1j*2*np.pi) * (((u*x)/n)+((v*y)/m)) ))\n",
    "                \n",
    "    return F/np.sqrt(n*m)"
   ]
  },
  {
   "cell_type": "markdown",
   "metadata": {},
   "source": [
    "# Inverse DFT "
   ]
  },
  {
   "cell_type": "code",
   "execution_count": 3,
   "metadata": {},
   "outputs": [],
   "source": [
    "# Computes the inverse 2D discrete Fourier transform\n",
    "def inverse_DFT2D(F):\n",
    "    \n",
    "    f = np.zeros(F.shape, dtype=np.complex64)\n",
    "    n,m = f.shape[0:2]\n",
    "    \n",
    "    x = np.arange(n)\n",
    "    \n",
    "    for u in np.arange(n):\n",
    "        for v in np.arange(m):\n",
    "            for y in np.arange(m):\n",
    "                f[u, v] += np.sum(F[:,y] * np.exp( (1j*2*np.pi) * (((u*x)/n)+((v*y)/m)) ))\n",
    "    \n",
    "    return f/np.sqrt(n*m)"
   ]
  },
  {
   "cell_type": "markdown",
   "metadata": {},
   "source": [
    "# Finding 2p"
   ]
  },
  {
   "cell_type": "code",
   "execution_count": 35,
   "metadata": {},
   "outputs": [],
   "source": [
    "# Finds second peak of a given fourier spectrum\n",
    "def find_2p(F):\n",
    "    # Flattens the spectrum\n",
    "    flat = np.reshape(F, F.shape[0] * F.shape[1])\n",
    "    \n",
    "    return np.amax(np.real(np.abs(flat[1:flat.shape[0]])))"
   ]
  },
  {
   "cell_type": "markdown",
   "metadata": {},
   "source": [
    "# Execution "
   ]
  },
  {
   "cell_type": "code",
   "execution_count": 25,
   "metadata": {},
   "outputs": [],
   "source": [
    "f = imageio.imread(\"images/gradient_noise_small.png\")\n",
    "\n",
    "F = DFT2D(f)\n",
    "invF = inverse_DFT2D(F)"
   ]
  },
  {
   "cell_type": "markdown",
   "metadata": {},
   "source": [
    "# Testing "
   ]
  },
  {
   "cell_type": "code",
   "execution_count": null,
   "metadata": {},
   "outputs": [],
   "source": [
    "plt.figure(figsize=(18,10))\n",
    "\n",
    "plt.subplot(141)\n",
    "plt.imshow(f, cmap='gray')\n",
    "\n",
    "plt.subplot(142)\n",
    "plt.imshow(np.abs(F)**2, cmap='gray')\n",
    "\n",
    "plt.subplot(143)\n",
    "plt.imshow(np.log(1 + np.fft.fftshift(np.abs(F))), cmap='gray')\n",
    "\n",
    "plt.subplot(144)\n",
    "plt.imshow(np.abs(invF), cmap='gray')\n"
   ]
  },
  {
   "cell_type": "code",
   "execution_count": null,
   "metadata": {},
   "outputs": [],
   "source": [
    "lol = np.reshape(F, F.shape[0]*F.shape[1])"
   ]
  },
  {
   "cell_type": "code",
   "execution_count": null,
   "metadata": {},
   "outputs": [],
   "source": [
    "plt.figure(figsize=(10,10))\n",
    "\n",
    "plt.subplot(311)\n",
    "plt.plot(np.arange(lol.shape[0]), np.abs(lol))\n",
    "\n",
    "plt.subplot(312)\n",
    "plt.plot(np.arange(int(lol.shape[0]/2)), np.abs(lol[:512]))\n",
    "\n",
    "plt.subplot(313)\n",
    "plt.plot(np.arange(100), np.abs(lol[:100]))"
   ]
  },
  {
   "cell_type": "code",
   "execution_count": null,
   "metadata": {},
   "outputs": [],
   "source": [
    "plt.figure(figsize=(10,10))\n",
    "\n",
    "plt.subplot(411)\n",
    "plt.plot(np.arange(100), np.real(np.abs(lol[:100])))\n",
    "\n",
    "plt.subplot(412)\n",
    "plt.plot(np.arange(99), np.real(np.abs(lol[1:100])))\n",
    "\n",
    "plt.subplot(413)\n",
    "plt.plot(np.arange(98), np.real(np.abs(lol[2:100])))\n",
    "\n",
    "plt.subplot(414)\n",
    "plt.plot(np.arange(97), np.real(np.abs(lol[3:100])))"
   ]
  },
  {
   "cell_type": "code",
   "execution_count": null,
   "metadata": {},
   "outputs": [],
   "source": [
    "np.argmax(np.real(np.abs(lol[1:100])))"
   ]
  },
  {
   "cell_type": "code",
   "execution_count": 18,
   "metadata": {},
   "outputs": [],
   "source": [
    "a = np.random.randint(0, 53, (25,))"
   ]
  },
  {
   "cell_type": "code",
   "execution_count": 20,
   "metadata": {},
   "outputs": [],
   "source": [
    "a = np.reshape(a, (5, 5))"
   ]
  },
  {
   "cell_type": "code",
   "execution_count": 39,
   "metadata": {},
   "outputs": [],
   "source": [
    "a = np.reshape(F, F.shape[0]*F.shape[1])"
   ]
  },
  {
   "cell_type": "code",
   "execution_count": 48,
   "metadata": {},
   "outputs": [
    {
     "data": {
      "text/plain": [
       "31"
      ]
     },
     "execution_count": 48,
     "metadata": {},
     "output_type": "execute_result"
    }
   ],
   "source": [
    "np.argmax(np.real(np.abs(a[1:a.shape[0]])))"
   ]
  },
  {
   "cell_type": "code",
   "execution_count": 51,
   "metadata": {},
   "outputs": [
    {
     "data": {
      "text/plain": [
       "[<matplotlib.lines.Line2D at 0x7fd393f3b110>]"
      ]
     },
     "execution_count": 51,
     "metadata": {},
     "output_type": "execute_result"
    },
    {
     "data": {
      "image/png": "[encoded data removed]",
      "text/plain": [
       "<Figure size 432x288 with 1 Axes>"
      ]
     },
     "metadata": {
      "needs_background": "light"
     },
     "output_type": "display_data"
    }
   ],
   "source": [
    "plt.plot(np.arange(39), np.abs(a[1:40]))"
   ]
  }
 ],
 "metadata": {
  "kernelspec": {
   "display_name": "Python 3.7.6 64-bit ('base': conda)",
   "language": "python",
   "name": "python37664bitbaseconda1396f5dd0753419f96fe7856bd455978"
  },
  "language_info": {
   "codemirror_mode": {
    "name": "ipython",
    "version": 3
   },
   "file_extension": ".py",
   "mimetype": "text/x-python",
   "name": "python",
   "nbconvert_exporter": "python",
   "pygments_lexer": "ipython3",
   "version": "3.7.6"
  }
 },
 "nbformat": 4,
 "nbformat_minor": 4
}
