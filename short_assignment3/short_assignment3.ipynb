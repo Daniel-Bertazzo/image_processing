{
 "cells": [
  {
   "cell_type": "code",
   "execution_count": null,
   "metadata": {},
   "outputs": [],
   "source": [
    "import numpy as np\n",
    "import matplotlib.pyplot as plt\n",
    "import matplotlib as mpl\n",
    "import imageio\n",
    "from skimage import morphology\n",
    "from skimage.morphology import disk"
   ]
  },
  {
   "cell_type": "markdown",
   "metadata": {},
   "source": [
    "# Auxiliary functions"
   ]
  },
  {
   "cell_type": "code",
   "execution_count": null,
   "metadata": {},
   "outputs": [],
   "source": [
    "# Normalizes the image to the interval [a, b]\n",
    "def normalize(r, a=0, b=255):\n",
    "    return a + (b-a)*(r - np.amin(r))/( np.amax(r) - np.amin(r))"
   ]
  },
  {
   "cell_type": "markdown",
   "metadata": {},
   "source": [
    "# Reading input"
   ]
  },
  {
   "cell_type": "code",
   "execution_count": null,
   "metadata": {},
   "outputs": [],
   "source": [
    "filename = str(input()).rstrip()\n",
    "img      = imageio.imread(filename)\n",
    "k        = int(input())\n",
    "option   = int(input())"
   ]
  },
  {
   "cell_type": "code",
   "execution_count": null,
   "metadata": {},
   "outputs": [],
   "source": [
    "img = imageio.imread(\"images/pencil.png\")"
   ]
  },
  {
   "cell_type": "code",
   "execution_count": null,
   "metadata": {},
   "outputs": [],
   "source": [
    "plt.imshow(img)"
   ]
  },
  {
   "cell_type": "markdown",
   "metadata": {},
   "source": [
    "# 1) RGB opening"
   ]
  },
  {
   "cell_type": "code",
   "execution_count": null,
   "metadata": {},
   "outputs": [],
   "source": [
    "def rgb_opening(img, size):\n",
    "    eroded_r = morphology.erosion(img[:, :, 0], disk(size))\n",
    "    eroded_g = morphology.erosion(img[:, :, 1], disk(size))\n",
    "    eroded_b = morphology.erosion(img[:, :, 2], disk(size))\n",
    "\n",
    "    opened_r = morphology.dilation(eroded_r, disk(size))\n",
    "    opened_g = morphology.dilation(eroded_g, disk(size))\n",
    "    opened_b = morphology.dilation(eroded_b, disk(size))\n",
    "\n",
    "    result = np.zeros(img.shape, dtype=np.uint8)\n",
    "\n",
    "    result[:, :, 0] = opened_r\n",
    "    result[:, :, 1] = opened_g\n",
    "    result[:, :, 2] = opened_b\n",
    "\n",
    "    return result"
   ]
  },
  {
   "cell_type": "markdown",
   "metadata": {},
   "source": [
    "# 2) Compositions of operations"
   ]
  },
  {
   "cell_type": "code",
   "execution_count": 1,
   "metadata": {},
   "outputs": [],
   "source": [
    "def compose_operations(img, size):\n",
    "\n",
    "    # Transforms from RGB to HSV\n",
    "    img_hsv = mpl.colors.rgb_to_hsv(img)\n",
    "\n",
    "    # Normalizes the H channel to the interval [0, 255]\n",
    "    H_norm = normalize(img_hsv[:, :, 0])\n",
    "\n",
    "    # Computes the opening of the normalized H channel (opening = erosion followed by dilation)\n",
    "    H_opening = morphology.dilation(morphology.erosion(H_norm, disk(size)), disk(size))\n",
    "\n",
    "    # Computes the closing of the normalized H channel (closing = dilation followed by erosion)\n",
    "    H_closing = morphology.erosion(morphology.dilation(H_norm, disk(size)), disk(size))\n",
    "\n",
    "    # Normalizes the morphological gradient of the normalized H channel\n",
    "    # (morphological gradient = difference between dilation and erosion)\n",
    "    grad_norm = normalize(morphology.dilation(H_norm, disk(size)) - morphology.erosion(H_norm, disk(size)))\n",
    "\n",
    "    # Builds new image\n",
    "    result = np.zeros(img.shape, dtype=np.uint8)\n",
    "    result[:, :, 0] = grad_norm.astype(np.uint8)\n",
    "    result[:, :, 1] = H_opening.astype(np.uint8)\n",
    "    result[:, :, 2] = H_closing.astype(np.uint8)\n",
    "    \n",
    "    return result"
   ]
  }
 ],
 "metadata": {
  "kernelspec": {
   "display_name": "Python 3.7.6 64-bit ('base': conda)",
   "language": "python",
   "name": "python37664bitbaseconda1396f5dd0753419f96fe7856bd455978"
  },
  "language_info": {
   "codemirror_mode": {
    "name": "ipython",
    "version": 3
   },
   "file_extension": ".py",
   "mimetype": "text/x-python",
   "name": "python",
   "nbconvert_exporter": "python",
   "pygments_lexer": "ipython3",
   "version": "3.7.6"
  }
 },
 "nbformat": 4,
 "nbformat_minor": 4
}
