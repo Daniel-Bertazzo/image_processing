{
 "cells": [
  {
   "cell_type": "code",
   "execution_count": 1,
   "metadata": {},
   "outputs": [],
   "source": [
    "import numpy as np\n",
    "import matplotlib.pyplot as plt\n",
    "import imageio\n",
    "from scipy.fftpack import fftn, ifftn, fftshift"
   ]
  },
  {
   "cell_type": "markdown",
   "metadata": {},
   "source": [
    "# Reading input"
   ]
  },
  {
   "cell_type": "code",
   "execution_count": null,
   "metadata": {},
   "outputs": [],
   "source": [
    "# Reads input\n",
    "filename = str(input()).rstrip()\n",
    "g        = imageio.imread(filename)\n",
    "k        = int(input())\n",
    "sigma    = float(input())\n",
    "gamma    = float(input())"
   ]
  },
  {
   "cell_type": "code",
   "execution_count": null,
   "metadata": {},
   "outputs": [],
   "source": [
    "# Initializes the laplacian operator\n",
    "p = np.array([[ 0.0, -1.0,  0.0],\n",
    "              [-1.0,  4.0, -1.0],\n",
    "              [ 0.0, -1.0,  0.0]])\n",
    "\n",
    "# Pads the laplacian operator\n",
    "pad = (g.shape[0]//2) - p.shape[0]//2\n",
    "p_padded = np.pad(p, (pad, pad-1), mode='constant', constant_values=0)\n",
    "\n",
    "# Computes the gaussian filter\n",
    "h = gaussian_filter(k, sigma)\n",
    "\n",
    "# Pads the gaussian filter\n",
    "pad = (g.shape[0]//2) - h.shape[0]//2\n",
    "h_padded = np.pad(h, (pad, pad-1), mode='constant', constant_values=0)"
   ]
  },
  {
   "cell_type": "code",
   "execution_count": null,
   "metadata": {},
   "outputs": [],
   "source": [
    "# Computes the fourier transforms\n",
    "G = fftn(g)\n",
    "H = fftn(h_padded)\n",
    "P = fftn(p_padded)"
   ]
  },
  {
   "cell_type": "code",
   "execution_count": null,
   "metadata": {},
   "outputs": [],
   "source": [
    "r = denoise(G, H)\n",
    "r = normalize(r, 0, np.amax(g))\n",
    "f_hat = CLS(G, H, P, gamma)\n",
    "f_hat = normalize(f_hat, 0, np.amax(r))"
   ]
  },
  {
   "cell_type": "markdown",
   "metadata": {},
   "source": [
    "# Functions "
   ]
  },
  {
   "cell_type": "code",
   "execution_count": 2,
   "metadata": {},
   "outputs": [],
   "source": [
    "# Normalizes the image to the interval [a, b]\n",
    "def normalize(r, a, b):\n",
    "    return a + (b-a)*(r - np.amin(r))/( np.amax(r) - np.amin(r))"
   ]
  },
  {
   "cell_type": "code",
   "execution_count": 3,
   "metadata": {},
   "outputs": [],
   "source": [
    "def gaussian_filter(k=3, sigma=1.0):\n",
    "    arx = np.arange((-k // 2) + 1.0, (k // 2) + 1.0)\n",
    "    x, y = np.meshgrid(arx, arx)\n",
    "    filt = np.exp( -(1/2)*(np.square(x) + np.square(y))/np.square(sigma) )\n",
    "    return filt/np.sum(filt)"
   ]
  },
  {
   "cell_type": "code",
   "execution_count": 4,
   "metadata": {},
   "outputs": [],
   "source": [
    "def denoise(G, H):\n",
    "    '''\n",
    "        Denoise an image g using a gaussian filter h, given their fourier transformations (G and H)\n",
    "    '''\n",
    "    R = np.multiply(G, H)\n",
    "    \n",
    "    return np.real(fftshift((ifftn(R))))"
   ]
  },
  {
   "cell_type": "code",
   "execution_count": 5,
   "metadata": {},
   "outputs": [],
   "source": [
    "# Constrained Least Squares method\n",
    "def CLS(G, H, P, gamma):\n",
    "    # Complex conjugate of H\n",
    "    numerator = np.conj(H)\n",
    "    \n",
    "    # Sum the power spectra of H and P multiplying the former by gamma first\n",
    "    denominator = (np.abs(H)**2) + (gamma * np.abs(P)**2)\n",
    "    \n",
    "    F_hat = (numerator/denominator) * G\n",
    "      \n",
    "    return np.real(fftshift((ifftn(F_hat))))"
   ]
  },
  {
   "cell_type": "markdown",
   "metadata": {},
   "source": [
    "# Testing "
   ]
  }
 ],
 "metadata": {
  "kernelspec": {
   "display_name": "Python 3.7.6 64-bit ('base': conda)",
   "language": "python",
   "name": "python37664bitbaseconda1396f5dd0753419f96fe7856bd455978"
  },
  "language_info": {
   "codemirror_mode": {
    "name": "ipython",
    "version": 3
   },
   "file_extension": ".py",
   "mimetype": "text/x-python",
   "name": "python",
   "nbconvert_exporter": "python",
   "pygments_lexer": "ipython3",
   "version": "3.7.6"
  }
 },
 "nbformat": 4,
 "nbformat_minor": 4
}
